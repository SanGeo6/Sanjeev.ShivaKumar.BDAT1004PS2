{
 "cells": [
  {
   "cell_type": "markdown",
   "id": "5b11e8fe",
   "metadata": {},
   "source": [
    "# Question 1\n",
    "\n",
    "Consider the following Python module:\n",
    "a = 0\n",
    "def b():\n",
    "global a\n",
    "a = c(a)\n",
    "def c(a):\n",
    "return a + 2\n",
    "After importing the module into the interpreter, you execute:\n",
    ">>> b()\n",
    ">>> b()\n",
    ">>> b()\n",
    ">>> a\n",
    "?\n",
    "What value is displayed when the last expression (a) is evaluated? Explain your answer by indicating what happens in every executed statement"
   ]
  },
  {
   "cell_type": "markdown",
   "id": "aa9eb40c",
   "metadata": {},
   "source": [
    "The value displayed will be 6\n",
    "\n",
    "1) when b() is executed the first time, the globally declared variable 'a' is assigned to the value of the method def c(a) which just adds the declared value of 'a' with 2, i.e., 0 + 2 = 2. Now the value of a will be equal to 2.\n",
    "\n",
    "2) when b() is executed for the second time, this above procedure repeats again, only this time the value of 'a' is 2 so after the execution of def c(a) the value of a = 2 + 2 i.e., a = 4\n",
    "\n",
    "3) when b() is executed for the third time, the value of 'a' which is now 4 is again increase by 2 after the execution of c(a).Therefore the value of a = 4 + 2 i.e., a = 6\n",
    "\n",
    "4) finally when >>>a is executed it returns the value 6"
   ]
  },
  {
   "cell_type": "markdown",
   "id": "60af2072",
   "metadata": {},
   "source": [
    "# Question 2\n",
    "\n",
    "Function fileLength(), given to you, takes the name of a file as input and returns the length of the file:\n",
    "\n",
    ">>> fileLength('midterm.py')\n",
    "284\n",
    ">>> fileLength('idterm.py') \n",
    "Traceback (most recent call last): \n",
    "  File \"<pyshell#34>\", line 1, in <module> \n",
    "    fileLength('idterm.py') \n",
    "  File \"/Users/me/midterm.py\", line 3, in fileLength \n",
    "    infile = open(filename) \n",
    "  FileNotFoundError: [Errno 2] No such file or directory: 'idterm.py'"
   ]
  },
  {
   "cell_type": "code",
   "execution_count": null,
   "id": "f6ccccad",
   "metadata": {},
   "outputs": [],
   "source": [
    "def file_length(file_name):\n",
    "    try:\n",
    "        file = open(file_name)\n",
    "        contents = file.read()\n",
    "        file.close()\n",
    "        print(len(contents))\n",
    "except FileNotFoundError:\n",
    "        print('File ' file_name ' not found') "
   ]
  },
  {
   "cell_type": "markdown",
   "id": "3c209658",
   "metadata": {},
   "source": [
    "# Question 5\n",
    "\n",
    "Write a recursive method binary() that takes a non-negative integer n and prints the binary representation of integer n. \n",
    ">>> binary(0) 0 \n",
    ">>> binary(1) 1 \n",
    ">>> binary(3) 11 \n",
    ">>> binary(9) 1001"
   ]
  },
  {
   "cell_type": "code",
   "execution_count": 12,
   "id": "f7d52718",
   "metadata": {},
   "outputs": [],
   "source": [
    "def binary(n):\n",
    "    if n == 0:\n",
    "        return 0\n",
    "    else:\n",
    "        return (n % 2 + 10 * binary(n // 2))"
   ]
  },
  {
   "cell_type": "markdown",
   "id": "7a798b0b",
   "metadata": {},
   "source": [
    "# Question 8\n",
    "\n",
    "Write SQL queries on the below database table that return:\n",
    "a) All the temperature data.\n",
    "b) All the cities, but without repetition.\n",
    "c) All the records for India.\n",
    "d) All the Fall records.\n",
    "e) The city, country, and season for which the average rainfall is between 200 and 400 millimeters.\n",
    "f) The city and country for which the average Fall temperature is above 20 degrees, in increasing temperature order.\n",
    "g) The total annual rainfall for Cairo.\n",
    "h) The total rainfall for each season."
   ]
  },
  {
   "cell_type": "markdown",
   "id": "0f636ed1",
   "metadata": {},
   "source": [
    "Let us assume that the given table is named Weather\n",
    "\n",
    "a) SELECT Temperature FROM Weather;\n",
    "b) SELECT DISTINCT City FROM Weather;\n",
    "c) SELECT * FROM Weather WHERE Country = 'India';\n",
    "d) SELECT * FROM Weather WHERE Season = 'Fall';\n",
    "e) \n",
    "f) SELECT City, Country WHERE Season = 'Fall' AND Temperature > 20;\n",
    "g) SELECT SUM(Rainfall) FROM Weather WHERE City = 'Cairo';\n",
    "h) SELECT SUM(Rainfall) FROM Weather WHERE Season = 'Winter';\n",
    "   SELECT SUM(Rainfall) FROM Weather WHERE Season = 'Spring';\n",
    "   SELECT SUM(Rainfall) FROM Weather WHERE Season = 'Summer';\n",
    "   SELECT SUM(Rainfall) FROM Weather WHERE Season = 'Fall';"
   ]
  },
  {
   "cell_type": "markdown",
   "id": "4ef93b11",
   "metadata": {},
   "source": [
    "# Question 9\n",
    "Suppose list words is defined as follows:\n",
    ">>> words = ['The', 'quick', 'brown', 'fox', 'jumps', 'over', 'the', 'lazy', 'dog']\n",
    "Write list comprehension expressions that use list words and generate the following lists:\n",
    "a) ['THE', 'QUICK', 'BROWN', 'FOX', 'JUMPS', 'OVER', 'THE', 'LAZY', 'DOG']\n",
    "b) ['the', 'quick', 'brown', 'fox', 'jumps', 'over', 'the', 'lazy', 'dog']\n",
    "c) [3, 5, 5, 3, 5, 4, 3, 4, 3] (the list of lengths of words in list words).\n",
    "d) [['THE', 'the', 3], ['QUICK', 'quick', 5], ['BROWN', 'brown', 5], ['FOX', 'fox', 3], ['JUMPS', 'jumps', 5], ['OVER', 'over', 4], ['THE', 'the', 3], ['LAZY', 'lazy', 4], ['DOG', 'dog', 3]] (the list containing a list for every word of list words, where each list contains the word in uppercase and lowercase and the length of the word.)\n",
    "e) ['The', 'quick', 'brown', 'fox', 'jumps', 'over', 'the', 'lazy', 'dog'] (the list of words in list words containing 4 or more characters.)"
   ]
  },
  {
   "cell_type": "markdown",
   "id": "4e9f4d35",
   "metadata": {},
   "source": [
    "a) words_two = []\n",
    "   for i in words\n",
    "       words_two.append((upper(i))\n",
    "b) words_two = []\n",
    "   for i in words\n",
    "       words_two.append((lower(i))\n",
    "c) wordlen = []\n",
    "   for i in words\n",
    "       wordlen.append((len(i)))\n",
    "   \n",
    "   \n"
   ]
  }
 ],
 "metadata": {
  "kernelspec": {
   "display_name": "Python 3",
   "language": "python",
   "name": "python3"
  },
  "language_info": {
   "codemirror_mode": {
    "name": "ipython",
    "version": 3
   },
   "file_extension": ".py",
   "mimetype": "text/x-python",
   "name": "python",
   "nbconvert_exporter": "python",
   "pygments_lexer": "ipython3",
   "version": "3.8.8"
  }
 },
 "nbformat": 4,
 "nbformat_minor": 5
}
